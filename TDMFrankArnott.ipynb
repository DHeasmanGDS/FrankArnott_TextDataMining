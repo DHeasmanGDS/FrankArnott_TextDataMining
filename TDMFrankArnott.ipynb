{
 "cells": [
  {
   "cell_type": "markdown",
   "id": "7eff2f9a",
   "metadata": {},
   "source": [
    "# <ins>Text Data Mining Notebook for Frank Arnott</ins>\n",
    "***"
   ]
  },
  {
   "cell_type": "code",
   "execution_count": 9,
   "id": "79877c1d",
   "metadata": {
    "scrolled": true
   },
   "outputs": [],
   "source": [
    "# Import the libraries that will be used in this notebook\n",
    "import pandas as pd\n",
    "import string\n",
    "import missingno as msno\n",
    "import numpy as np\n",
    "from fuzzywuzzy import fuzz\n",
    "from fuzzywuzzy import process\n",
    "from nltk.stem import PorterStemmer\n",
    "from ast import literal_eval\n",
    "%matplotlib inline\n",
    "pd.set_option('display.max_colwidth', None)"
   ]
  },
  {
   "cell_type": "markdown",
   "id": "1caf08bd",
   "metadata": {},
   "source": [
    "## *Overview*\n",
    "---\n",
    "Note: This notebook will use the BCGS Lithogeochem database as a \"proof of concept\". A csv of that database has been included.\n",
    "\n",
    "Our ability to collect and store data over the past 20 years has far surpassed our abilities to analyze it.\n",
    "Data that appear to have no value or is too difficult to parse because of their unstructured nature get stored and ignored.  \n",
    "\n",
    "We aim to develop some starter tools using Python, and open source software, that help geologists add value to their databases and demonstrate these tools on the Quesnel area. Some of these tools have been integrated in our other approaches on this project. These tools should be abstract in nature (apply to many situations), and simple to use (not require expert coding abilities).\n",
    "\n",
    "Data mining itself is a misnomer. Just as we don’t “rock mine”, we don’t intend to “data mine”. Our goal is to get value from the data as one would get gold from a deposit.\n",
    "KDD (Knowledge Discovery in Databases), better describes our purpose with these tools. We want to extract information, from the data."
   ]
  },
  {
   "cell_type": "markdown",
   "id": "c060c310",
   "metadata": {},
   "source": [
    "### *Methodology*\n",
    "* Import the Excel file into the notebook.\n",
    "* Perform some simple exploratory data analysis, and do some data cleaning and maintenance with the purpose of creating a column for text data mining.\n",
    "* Create terminology feature columns as \"sets of words\".\n",
    "* Add inference rules to include words that are not contained in the database but use domain knowledge.\n",
    "* Import these results into a geodatabase, GIS software, geoPandas, or however the geologist requires for their use-case scenario.\n"
   ]
  },
  {
   "cell_type": "markdown",
   "id": "ce43c774",
   "metadata": {},
   "source": [
    "### *Utility methods*\n",
    "\n",
    "These are utility methods you can feel free to use as you see fit during your data cleaning, and fine tuning of the raw dataset."
   ]
  },
  {
   "cell_type": "code",
   "execution_count": 22,
   "id": "e880d1b8",
   "metadata": {},
   "outputs": [],
   "source": [
    "def test_word(word1, word2):\n",
    "    '''\n",
    "    Takes two words and returns the fuzzy ratio between the stemmed words. This is a percentage similarity between\n",
    "    these two words after stemming. It can be used to check for cutoff values.\n",
    "    \n",
    "    E.g. print(test_word('porphyry', 'porphyritic'))\n",
    "         - 88\n",
    "    '''\n",
    "    porter = PorterStemmer()\n",
    "    word1 = porter.stem(word1)\n",
    "    word2 = porter.stem(word2)\n",
    "    return fuzz.ratio(word1, word2)"
   ]
  },
  {
   "cell_type": "code",
   "execution_count": 23,
   "id": "be1a01b9",
   "metadata": {
    "scrolled": true
   },
   "outputs": [],
   "source": [
    "def get_term_list(df, col):\n",
    "    term_list = df[col].tolist()\n",
    "    term_list = [x for x in term_list if str(x) != 'nan']\n",
    "    return term_list"
   ]
  },
  {
   "cell_type": "code",
   "execution_count": 24,
   "id": "98a059c5",
   "metadata": {
    "scrolled": true
   },
   "outputs": [],
   "source": [
    "def get_names(row, word_list, column, thresh=85):\n",
    "    string1 = row[column]\n",
    "    matches = []\n",
    "    porter = PorterStemmer()\n",
    "    for name1 in string1.split():\n",
    "        name1 = porter.stem(name1)\n",
    "        for name2 in word_list:\n",
    "            comparison_word = porter.stem(name2)\n",
    "            ratio = fuzz.ratio(name1, comparison_word)\n",
    "            if ((ratio > thresh) and (name2 not in matches)):\n",
    "                matches.append(name2)\n",
    "    return matches"
   ]
  },
  {
   "cell_type": "markdown",
   "id": "7be6f34c",
   "metadata": {},
   "source": [
    "## *Import file into Notebook and basic EDA*\n",
    "---"
   ]
  },
  {
   "cell_type": "code",
   "execution_count": 25,
   "id": "c9c2f1ae",
   "metadata": {
    "scrolled": false
   },
   "outputs": [],
   "source": [
    "input_file = 'geochem_raw.xlsx'\n",
    "config_file = 'config.xlsx'\n",
    "df = pd.read_excel(input_file)"
   ]
  },
  {
   "cell_type": "code",
   "execution_count": 26,
   "id": "eaa4cccf",
   "metadata": {},
   "outputs": [
    {
     "name": "stdout",
     "output_type": "stream",
     "text": [
      "<class 'pandas.core.frame.DataFrame'>\n",
      "RangeIndex: 11635 entries, 0 to 11634\n",
      "Data columns (total 5 columns):\n",
      " #   Column       Non-Null Count  Dtype  \n",
      "---  ------       --------------  -----  \n",
      " 0   sample_code  11635 non-null  object \n",
      " 1   wgs84_lat    11635 non-null  float64\n",
      " 2   wgs84_long   11635 non-null  float64\n",
      " 3   lithology    11633 non-null  object \n",
      " 4   sample_desc  11634 non-null  object \n",
      "dtypes: float64(2), object(3)\n",
      "memory usage: 454.6+ KB\n"
     ]
    }
   ],
   "source": [
    "df.info()"
   ]
  },
  {
   "cell_type": "code",
   "execution_count": 27,
   "id": "3a072241",
   "metadata": {},
   "outputs": [
    {
     "data": {
      "text/html": [
       "<div>\n",
       "<style scoped>\n",
       "    .dataframe tbody tr th:only-of-type {\n",
       "        vertical-align: middle;\n",
       "    }\n",
       "\n",
       "    .dataframe tbody tr th {\n",
       "        vertical-align: top;\n",
       "    }\n",
       "\n",
       "    .dataframe thead th {\n",
       "        text-align: right;\n",
       "    }\n",
       "</style>\n",
       "<table border=\"1\" class=\"dataframe\">\n",
       "  <thead>\n",
       "    <tr style=\"text-align: right;\">\n",
       "      <th></th>\n",
       "      <th>sample_code</th>\n",
       "      <th>wgs84_lat</th>\n",
       "      <th>wgs84_long</th>\n",
       "      <th>lithology</th>\n",
       "      <th>sample_desc</th>\n",
       "    </tr>\n",
       "  </thead>\n",
       "  <tbody>\n",
       "    <tr>\n",
       "      <th>0</th>\n",
       "      <td>85GMC-RM001</td>\n",
       "      <td>51.187788</td>\n",
       "      <td>-123.646687</td>\n",
       "      <td>None</td>\n",
       "      <td>bleached, sericitic shear zone; quartz veined; 3% pyrite, cuts andesitic volcanic</td>\n",
       "    </tr>\n",
       "    <tr>\n",
       "      <th>1</th>\n",
       "      <td>85GMC-RM002</td>\n",
       "      <td>51.258482</td>\n",
       "      <td>-123.777376</td>\n",
       "      <td>None</td>\n",
       "      <td>Quartz-carbonate alteration zone adjacent to felsite intrusive; 2-5% pyrite</td>\n",
       "    </tr>\n",
       "    <tr>\n",
       "      <th>2</th>\n",
       "      <td>85GMC-RM003</td>\n",
       "      <td>51.196667</td>\n",
       "      <td>-123.666848</td>\n",
       "      <td>None</td>\n",
       "      <td>carbonate veinlets carrying malachite, bornite, chalcopyrite cutting andesite</td>\n",
       "    </tr>\n",
       "    <tr>\n",
       "      <th>3</th>\n",
       "      <td>85GMC-RM004</td>\n",
       "      <td>51.189498</td>\n",
       "      <td>-123.662452</td>\n",
       "      <td>None</td>\n",
       "      <td>strongly bleached and pyritic shear zone cutting andesites</td>\n",
       "    </tr>\n",
       "    <tr>\n",
       "      <th>4</th>\n",
       "      <td>85GMC-RM005</td>\n",
       "      <td>51.140817</td>\n",
       "      <td>-123.823286</td>\n",
       "      <td>None</td>\n",
       "      <td>dacite; weakly silicifed; pyrite and pyrrhotite</td>\n",
       "    </tr>\n",
       "  </tbody>\n",
       "</table>\n",
       "</div>"
      ],
      "text/plain": [
       "   sample_code  wgs84_lat  wgs84_long lithology  \\\n",
       "0  85GMC-RM001  51.187788 -123.646687      None   \n",
       "1  85GMC-RM002  51.258482 -123.777376      None   \n",
       "2  85GMC-RM003  51.196667 -123.666848      None   \n",
       "3  85GMC-RM004  51.189498 -123.662452      None   \n",
       "4  85GMC-RM005  51.140817 -123.823286      None   \n",
       "\n",
       "                                                                         sample_desc  \n",
       "0  bleached, sericitic shear zone; quartz veined; 3% pyrite, cuts andesitic volcanic  \n",
       "1        Quartz-carbonate alteration zone adjacent to felsite intrusive; 2-5% pyrite  \n",
       "2      carbonate veinlets carrying malachite, bornite, chalcopyrite cutting andesite  \n",
       "3                         strongly bleached and pyritic shear zone cutting andesites  \n",
       "4                                    dacite; weakly silicifed; pyrite and pyrrhotite  "
      ]
     },
     "execution_count": 27,
     "metadata": {},
     "output_type": "execute_result"
    }
   ],
   "source": [
    "df.head()"
   ]
  },
  {
   "cell_type": "code",
   "execution_count": 28,
   "id": "b291a3b4",
   "metadata": {},
   "outputs": [
    {
     "data": {
      "text/plain": [
       "sample_code    11635\n",
       "wgs84_lat       8950\n",
       "wgs84_long      8946\n",
       "lithology       1417\n",
       "sample_desc     4313\n",
       "dtype: int64"
      ]
     },
     "execution_count": 28,
     "metadata": {},
     "output_type": "execute_result"
    }
   ],
   "source": [
    "df.nunique()"
   ]
  },
  {
   "cell_type": "markdown",
   "id": "2a2e5227",
   "metadata": {},
   "source": [
    "A quick look at our dataset shows that we have a sample_id column, spatial information, and two columns which appear to contain text data.  Our \"null\" values are labelled as \"None\", which will need to be dealt with. Our text data contains a mix of capitals, punctuations, as well as most likely abbreviations and spelling errors.\n",
    "\n",
    "Out of 11635 total rows, we have 11635 unique sample_code enteries. This is good as it shows our sample_code is a unique identifier. We also see a large amount of unique entries for our 2 text columns, meaning there is likely no standard that was used for those columns."
   ]
  },
  {
   "cell_type": "markdown",
   "id": "04dcf947",
   "metadata": {},
   "source": [
    "## *Data cleaning and preperation*"
   ]
  },
  {
   "cell_type": "markdown",
   "id": "c23b5377",
   "metadata": {},
   "source": [
    "First thing we should do is replace the \"None\" values with proper NaN values, so we can see how much of the dataset is missing information.\n"
   ]
  },
  {
   "cell_type": "code",
   "execution_count": 29,
   "id": "3cd52547",
   "metadata": {
    "scrolled": true
   },
   "outputs": [],
   "source": [
    "df = df.replace(\"None\",  np.nan)"
   ]
  },
  {
   "cell_type": "code",
   "execution_count": 30,
   "id": "1b8ce14a",
   "metadata": {
    "scrolled": false
   },
   "outputs": [
    {
     "data": {
      "text/plain": [
       "<AxesSubplot:>"
      ]
     },
     "execution_count": 30,
     "metadata": {},
     "output_type": "execute_result"
    },
    {
     "data": {
      "image/png": "[encoded data removed]",
      "text/plain": [
       "<Figure size 1800x720 with 2 Axes>"
      ]
     },
     "metadata": {
      "needs_background": "light"
     },
     "output_type": "display_data"
    }
   ],
   "source": [
    "plot = msno.matrix(df)\n",
    "plot"
   ]
  },
  {
   "cell_type": "markdown",
   "id": "df31a5b6",
   "metadata": {},
   "source": [
    "There doesn't seem to be any specific relationship between these two as far as missing data is concerned. However sample_desc has considerably less missing data.\n",
    "\n",
    "We then make a target column lith_desc, that contains the lithology and sample_desc. This column will be used for our text data mining. We then take a look at the matrix of missing data again."
   ]
  },
  {
   "cell_type": "code",
   "execution_count": 31,
   "id": "2e3ee7e5",
   "metadata": {
    "scrolled": false
   },
   "outputs": [],
   "source": [
    "df = df.replace(np.nan, '', regex=True)\n",
    "df['lith_desc'] = df[['lithology', 'sample_desc']].agg(' '.join, axis=1)\n",
    "df = df.replace(\" \",  np.nan)"
   ]
  },
  {
   "cell_type": "code",
   "execution_count": 32,
   "id": "be160bdc",
   "metadata": {},
   "outputs": [],
   "source": [
    "df = df.drop(['lithology', 'sample_desc'], axis=1) # we no longer need these columns for our purposes."
   ]
  },
  {
   "cell_type": "code",
   "execution_count": 33,
   "id": "4f546235",
   "metadata": {
    "scrolled": false
   },
   "outputs": [
    {
     "data": {
      "text/plain": [
       "<AxesSubplot:>"
      ]
     },
     "execution_count": 33,
     "metadata": {},
     "output_type": "execute_result"
    },
    {
     "data": {
      "image/png": "[encoded data removed]",
      "text/plain": [
       "<Figure size 1800x720 with 2 Axes>"
      ]
     },
     "metadata": {
      "needs_background": "light"
     },
     "output_type": "display_data"
    }
   ],
   "source": [
    "plot = msno.matrix(df)\n",
    "plot"
   ]
  },
  {
   "cell_type": "markdown",
   "id": "054ea68a",
   "metadata": {},
   "source": [
    "First thing we'll do is convert everything in the target column into lowercase."
   ]
  },
  {
   "cell_type": "code",
   "execution_count": 34,
   "id": "e344a71a",
   "metadata": {},
   "outputs": [],
   "source": [
    "df = df.replace(np.nan, '', regex=True)\n",
    "df['lith_desc'] = df['lith_desc'].str.lower()"
   ]
  },
  {
   "cell_type": "markdown",
   "id": "6821db2a",
   "metadata": {},
   "source": [
    "This second step is to add padding to the start and ends of the strings. This will allow us to add spaces in our searches and avoid situations where are search words are parts of other words. For exxample a search replace of ag, for silver, could result in changing aggregate to silvergregate. We can instead search and replace \" ag \" with \" silver \", to avoid this problem."
   ]
  },
  {
   "cell_type": "code",
   "execution_count": 35,
   "id": "688d455e",
   "metadata": {},
   "outputs": [],
   "source": [
    "max_len = df.lith_desc.map(len).max() + 2\n",
    "df['lith_desc'] = df['lith_desc'].str.pad(max_len, side ='both')"
   ]
  },
  {
   "cell_type": "markdown",
   "id": "9dfaed9f",
   "metadata": {},
   "source": [
    "Note, that small words score very low on fuzzy matches with simply 1 letter wrong. For example a 4 letter word with 1 letter wrong would score 75% with a similarity ratio. Looking more carefully at the dataset, or running a spellcheck would help, but alternate correct spellings will also cause problems. In this case some words were manually changed to be consistent."
   ]
  },
  {
   "cell_type": "code",
   "execution_count": 36,
   "id": "240f4add",
   "metadata": {
    "scrolled": true
   },
   "outputs": [],
   "source": [
    "df = df.replace(' dyke ', ' dike ', regex=True)\n",
    "df = df.replace(' vien ', ' vein ', regex=True)"
   ]
  },
  {
   "cell_type": "markdown",
   "id": "fc107c88",
   "metadata": {},
   "source": [
    "We then removed all punctuations. Also note we are replacing punctuations with a space."
   ]
  },
  {
   "cell_type": "code",
   "execution_count": 37,
   "id": "99ca032b",
   "metadata": {},
   "outputs": [],
   "source": [
    "df[\"lith_desc\"] = df['lith_desc'].str.replace('[^\\w\\s]',' ', regex=True)"
   ]
  },
  {
   "cell_type": "markdown",
   "id": "c9d7b1b5",
   "metadata": {},
   "source": [
    "And we replace abbreviations. This is maintained in the Excel configuration file."
   ]
  },
  {
   "cell_type": "code",
   "execution_count": 38,
   "id": "2bd40c63",
   "metadata": {
    "scrolled": true
   },
   "outputs": [],
   "source": [
    "abb_df = pd.read_excel(config_file, sheet_name='abbreviations')\n",
    "\n",
    "for row in abb_df.itertuples():\n",
    "    padded_abb = \" \" + row.abbreviation + \" \"\n",
    "    padded_term = \" \" + row.term + \" \"\n",
    "    df['lith_desc'] = df['lith_desc'].str.replace(padded_abb, padded_term, regex=False)"
   ]
  },
  {
   "cell_type": "markdown",
   "id": "56457d9f",
   "metadata": {},
   "source": [
    "Looking again at our dataset, our target column looks ready for text data mining."
   ]
  },
  {
   "cell_type": "code",
   "execution_count": 39,
   "id": "bcca2a92",
   "metadata": {},
   "outputs": [
    {
     "data": {
      "text/html": [
       "<div>\n",
       "<style scoped>\n",
       "    .dataframe tbody tr th:only-of-type {\n",
       "        vertical-align: middle;\n",
       "    }\n",
       "\n",
       "    .dataframe tbody tr th {\n",
       "        vertical-align: top;\n",
       "    }\n",
       "\n",
       "    .dataframe thead th {\n",
       "        text-align: right;\n",
       "    }\n",
       "</style>\n",
       "<table border=\"1\" class=\"dataframe\">\n",
       "  <thead>\n",
       "    <tr style=\"text-align: right;\">\n",
       "      <th></th>\n",
       "      <th>sample_code</th>\n",
       "      <th>wgs84_lat</th>\n",
       "      <th>wgs84_long</th>\n",
       "      <th>lith_desc</th>\n",
       "    </tr>\n",
       "  </thead>\n",
       "  <tbody>\n",
       "    <tr>\n",
       "      <th>0</th>\n",
       "      <td>85GMC-RM001</td>\n",
       "      <td>51.187788</td>\n",
       "      <td>-123.646687</td>\n",
       "      <td>bleached  sericitic shear zone  quartz veined  3  pyrite  cuts andesitic volcanic</td>\n",
       "    </tr>\n",
       "    <tr>\n",
       "      <th>1</th>\n",
       "      <td>85GMC-RM002</td>\n",
       "      <td>51.258482</td>\n",
       "      <td>-123.777376</td>\n",
       "      <td>quartz carbonate alteration zone adjacent to felsite intrusive  2 5  pyrite</td>\n",
       "    </tr>\n",
       "    <tr>\n",
       "      <th>2</th>\n",
       "      <td>85GMC-RM003</td>\n",
       "      <td>51.196667</td>\n",
       "      <td>-123.666848</td>\n",
       "      <td>carbonate veinlets carrying malachite  bornite  chalcopyrite cutting andesite</td>\n",
       "    </tr>\n",
       "    <tr>\n",
       "      <th>3</th>\n",
       "      <td>85GMC-RM004</td>\n",
       "      <td>51.189498</td>\n",
       "      <td>-123.662452</td>\n",
       "      <td>strongly bleached and pyritic shear zone cutting andesites</td>\n",
       "    </tr>\n",
       "    <tr>\n",
       "      <th>4</th>\n",
       "      <td>85GMC-RM005</td>\n",
       "      <td>51.140817</td>\n",
       "      <td>-123.823286</td>\n",
       "      <td>dacite  weakly silicifed  pyrite and pyrrhotite</td>\n",
       "    </tr>\n",
       "  </tbody>\n",
       "</table>\n",
       "</div>"
      ],
      "text/plain": [
       "   sample_code  wgs84_lat  wgs84_long  \\\n",
       "0  85GMC-RM001  51.187788 -123.646687   \n",
       "1  85GMC-RM002  51.258482 -123.777376   \n",
       "2  85GMC-RM003  51.196667 -123.666848   \n",
       "3  85GMC-RM004  51.189498 -123.662452   \n",
       "4  85GMC-RM005  51.140817 -123.823286   \n",
       "\n",
       "                                                                                                                                                                                                                                                                                                                                                                                                                                                                                                                                                                                                                  lith_desc  \n",
       "0                                                                                                                                                                                                                                                                      bleached  sericitic shear zone  quartz veined  3  pyrite  cuts andesitic volcanic                                                                                                                                                                                                                                                                     \n",
       "1                                                                                                                                                                                                                                                                         quartz carbonate alteration zone adjacent to felsite intrusive  2 5  pyrite                                                                                                                                                                                                                                                                        \n",
       "2                                                                                                                                                                                                                                                                        carbonate veinlets carrying malachite  bornite  chalcopyrite cutting andesite                                                                                                                                                                                                                                                                       \n",
       "3                                                                                                                                                                                                                                                                                 strongly bleached and pyritic shear zone cutting andesites                                                                                                                                                                                                                                                                                 \n",
       "4                                                                                                                                                                                                                                                                                       dacite  weakly silicifed  pyrite and pyrrhotite                                                                                                                                                                                                                                                                                      "
      ]
     },
     "execution_count": 39,
     "metadata": {},
     "output_type": "execute_result"
    }
   ],
   "source": [
    "df.head()"
   ]
  },
  {
   "cell_type": "markdown",
   "id": "5a8e641a",
   "metadata": {},
   "source": [
    "## *Text data mining our sets of words*"
   ]
  },
  {
   "cell_type": "markdown",
   "id": "901df9a4",
   "metadata": {},
   "source": [
    "A list of categorized geological terms are maintained in the Excel configuration file. This file can be altered depending on the purpose for the text mining problem. We use a get_term_list function from above to make this easier. We then create our column names and apply our get_names function to the column.\n",
    "\n",
    "We'll do this all in a for loop. Note, this code does most of the \"heavy lifting\", and will take a few minutes to run."
   ]
  },
  {
   "cell_type": "code",
   "execution_count": 40,
   "id": "c0b53fbc",
   "metadata": {},
   "outputs": [],
   "source": [
    "terms_df = pd.read_excel(config_file, sheet_name='terms')\n",
    "\n",
    "for column in terms_df:\n",
    "    term_list = get_term_list(terms_df, column)\n",
    "    df[column] = df.apply(get_names, word_list=term_list, thresh=85, column='lith_desc', axis=1)"
   ]
  },
  {
   "cell_type": "markdown",
   "id": "f9110428",
   "metadata": {},
   "source": [
    "We can take a look at the dataset now and see what has happened."
   ]
  },
  {
   "cell_type": "code",
   "execution_count": null,
   "id": "d2215f08",
   "metadata": {
    "scrolled": false
   },
   "outputs": [],
   "source": [
    "df.head()"
   ]
  },
  {
   "cell_type": "markdown",
   "id": "cac11946",
   "metadata": {},
   "source": [
    "## Creating an inference rule to add information to the dataset."
   ]
  },
  {
   "cell_type": "markdown",
   "id": "6ff0684c",
   "metadata": {},
   "source": [
    "This is just one example of an inference rule that can be used to add information to our dataset. In this case we know that certain rock types have a specific petrogenesis.  We can maintain this data in the Excel configuration file, and run an inference rule with a series of if statements."
   ]
  },
  {
   "cell_type": "code",
   "execution_count": null,
   "id": "8c4b328e",
   "metadata": {
    "scrolled": true
   },
   "outputs": [],
   "source": [
    "rock_class_df = pd.read_excel(config_file, sheet_name='rock_class')\n",
    "volcanic_rx = get_term_list(rock_class_df, 'volcanic_rx')\n",
    "plutonic_rx = get_term_list(rock_class_df, 'plutonic_rx')\n",
    "metamorphic_rx = get_term_list(rock_class_df, 'metamorphic_rx')\n",
    "sedimentary_rx = get_term_list(rock_class_df, 'sedimentary_rx')\n",
    "hydrothermal_rx = get_term_list(rock_class_df, 'hydrothermal_rx')\n",
    "\n",
    "for index, row in df.iterrows():\n",
    "    for rock in row['rock_names']:\n",
    "        if rock in volcanic_rx and 'volcanic' not in row['rock_class']:\n",
    "            row['rock_class'].append('volcanic')\n",
    "        if rock in plutonic_rx and 'plutonic' not in row['rock_class']:\n",
    "            row['rock_class'].append('plutonic')\n",
    "        if rock in metamorphic_rx and 'metamorphic' not in row['rock_class']:\n",
    "            row['rock_class'].append('metamorphic')\n",
    "        if rock in sedimentary_rx and 'sedimentary' not in row['rock_class']:\n",
    "            row['rock_class'].append('sedimentary')\n",
    "        if rock in hydrothermal_rx and 'hydrothermal' not in row['rock_class']:\n",
    "            row['rock_class'].append('hydrothermal')\n",
    "        "
   ]
  },
  {
   "cell_type": "markdown",
   "id": "74744312",
   "metadata": {},
   "source": [
    "We can see from the first record in our dataset, that \"hydrothermal\", was a term added to the petrogenesis column due to the presence of \"vein\" in the lith_desc column. This can be done with any number of domain knowledge applications."
   ]
  },
  {
   "cell_type": "code",
   "execution_count": null,
   "id": "a729f6c7",
   "metadata": {},
   "outputs": [],
   "source": [
    "df.head(1)"
   ]
  },
  {
   "cell_type": "markdown",
   "id": "0b7eae12",
   "metadata": {},
   "source": [
    "Finally, we then save our dataset as a csv (or alternatively import it directly into a database using a database oriented python library)."
   ]
  },
  {
   "cell_type": "code",
   "execution_count": null,
   "id": "fef0396b",
   "metadata": {},
   "outputs": [],
   "source": [
    "df.to_csv('C:/input/geochem_processed.csv')"
   ]
  },
  {
   "cell_type": "markdown",
   "id": "3d4ba679",
   "metadata": {},
   "source": [
    "# *Results*\n",
    "---"
   ]
  },
  {
   "cell_type": "markdown",
   "id": "f86a3125",
   "metadata": {},
   "source": [
    "In order to determine the success of our text data mining, we need some way to compare results. We will do this by comparing some search results on the raw data set, and compare them with the text mining process."
   ]
  },
  {
   "cell_type": "code",
   "execution_count": null,
   "id": "721c3124",
   "metadata": {},
   "outputs": [],
   "source": [
    "from matplotlib_scalebar.scalebar import ScaleBar\n",
    "from shapely.geometry.point import Point\n",
    "import geopandas\n",
    "import matplotlib.pyplot as plt\n",
    "import matplotlib"
   ]
  },
  {
   "cell_type": "code",
   "execution_count": null,
   "id": "48a2fe29",
   "metadata": {},
   "outputs": [],
   "source": [
    "config_file = 'config.xlsx'\n",
    "input_file1 = 'C:/input/geochem_processed.csv'\n",
    "tdm_df = pd.read_csv(input_file1)\n",
    "input_file2 = 'geochem_raw.xlsx'\n",
    "raw_df = pd.read_excel(input_file2)"
   ]
  },
  {
   "cell_type": "markdown",
   "id": "bdd280cf",
   "metadata": {},
   "source": [
    "## *Utility functions for analyzing results*"
   ]
  },
  {
   "cell_type": "code",
   "execution_count": null,
   "id": "59b510d3",
   "metadata": {},
   "outputs": [],
   "source": [
    "def subset_df_on_term(df, term):\n",
    "    '''\n",
    "    This function takes any dataframe and subsets that dataframe on a supplied term.\n",
    "    '''\n",
    "    mask = np.column_stack([df[col].apply(str).str.contains(term, na=False) for col in df])\n",
    "    df = df.loc[mask.any(axis=1)]\n",
    "    return df"
   ]
  },
  {
   "cell_type": "markdown",
   "id": "aec5abb6",
   "metadata": {},
   "source": [
    "We'll use the above function to compare a list of search terms. And print out the resulting dataframe, and plot a barplot of the results."
   ]
  },
  {
   "cell_type": "code",
   "execution_count": null,
   "id": "f5612b53",
   "metadata": {},
   "outputs": [],
   "source": [
    "search_list = ['porphyry', 'sulphides', 'vein', 'breccia', 'mineralization', 'volcanic']\n",
    "comparison_df = pd.DataFrame(columns=('raw', 'tdm'), index=search_list)\n",
    "for term in search_list:\n",
    "    len_raw = len(subset_df_on_term(raw_df, term))\n",
    "    len_tdm = len(subset_df_on_term(tdm_df, term))\n",
    "    comparison_df.at[term, \"raw\"] = len_raw\n",
    "    comparison_df.at[term, \"tdm\"] = len_tdm\n",
    "    \n",
    "    \n",
    "comparison_df"
   ]
  },
  {
   "cell_type": "code",
   "execution_count": null,
   "id": "b5702a8d",
   "metadata": {},
   "outputs": [],
   "source": [
    "matplotlib.pyplot.xkcd(scale=1, length=100, randomness=2)\n",
    "plt.figure(figsize=[15, 10])\n",
    "X = np.arange(len(search_list))\n",
    "plt.bar(X, comparison_df['tdm'], color='lightgreen', edgecolor='black')\n",
    "plt.bar(X, comparison_df['raw'], color='black', alpha=0.6, edgecolor='black', width=0.75)\n",
    "plt.legend(['Data Mined Search', 'Initial Search'], edgecolor='black', fontsize=18)\n",
    "plt.xticks([i for i in range(6)], search_list)\n",
    "plt.title(\"Search Results Comparisons\", fontsize=30)\n",
    "plt.xlabel('Searches', fontsize=15)\n",
    "plt.ylabel('# of results', fontsize=15)\n",
    "plt.show()"
   ]
  },
  {
   "cell_type": "markdown",
   "id": "ac7fb7d2",
   "metadata": {},
   "source": [
    "Note we see a lot more volcanic hits most likely due to the inference rule we created to add information to the dataset,\n",
    "however all searches show an increase.\n"
   ]
  },
  {
   "cell_type": "markdown",
   "id": "156eb441",
   "metadata": {},
   "source": [
    "## *Spatial View of the TDM Results*\n",
    "\n",
    "Let's also see a map of these points to see a spatial view of the extra points uncovered through text data mining.\n",
    "First we'll create a geopandas dataframe for two subsets based on a mineralization search."
   ]
  },
  {
   "cell_type": "code",
   "execution_count": null,
   "id": "eca2931b",
   "metadata": {},
   "outputs": [],
   "source": [
    "search_term = 'volcanic'\n",
    "crs = 'epsg:26910'\n",
    "\n",
    "raw_subset_df = subset_df_on_term(raw_df, search_term)\n",
    "raw_subset_gdf = geopandas.GeoDataFrame(raw_subset_df, \n",
    "                                     geometry=geopandas.points_from_xy(raw_subset_df.wgs84_long, raw_subset_df.wgs84_lat),\n",
    "                                       crs='epsg:4269')\n",
    "#raw_subset_gdf = raw_subset_gdf.to_crs(epsg=26910)\n",
    "tdm_subset_df = subset_df_on_term(tdm_df, search_term)\n",
    "tdm_subset_gdf = geopandas.GeoDataFrame(tdm_subset_df, \n",
    "                                     geometry=geopandas.points_from_xy(tdm_subset_df.wgs84_long, tdm_subset_df.wgs84_lat),\n",
    "                                    crs='epsg:4269')\n",
    "#tdm_subset_gdf = tdm_subset_gdf.to_crs(epsg=26910)"
   ]
  },
  {
   "cell_type": "code",
   "execution_count": null,
   "id": "cdae9bb9",
   "metadata": {},
   "outputs": [],
   "source": [
    "raw_subset_gdf.to_file('raw_bc.shp')\n",
    "tdm_subset_gdf.to_file('tdm_bc.shp')"
   ]
  },
  {
   "cell_type": "markdown",
   "id": "813ed9fb",
   "metadata": {},
   "source": [
    "#### We will also bring in a map of the provincial boundaries, and our geophysics outline.\n",
    "\n",
    "Note that the provincial boundary file comes from the Government of Canada online, and I have no control over its consistent access."
   ]
  },
  {
   "cell_type": "code",
   "execution_count": null,
   "id": "1652c578",
   "metadata": {},
   "outputs": [],
   "source": [
    "zipfile = \"http://www12.statcan.gc.ca/census-recensement/2011/geo/bound-limit/files-fichiers/2016/lpr_000b16a_e.zip\"\n",
    "provinces = geopandas.read_file(zipfile)\n",
    "provinces = provinces.to_crs(epsg=26910)"
   ]
  },
  {
   "cell_type": "code",
   "execution_count": null,
   "id": "81265e7c",
   "metadata": {},
   "outputs": [],
   "source": [
    "zipfile = \"QUEST_geophysics_outline.zip\"\n",
    "geophysics = geopandas.read_file(zipfile)\n",
    "geophysics = geophysics.to_crs(crs=26910)"
   ]
  },
  {
   "cell_type": "code",
   "execution_count": null,
   "id": "4e8601d6",
   "metadata": {
    "scrolled": false
   },
   "outputs": [],
   "source": [
    "plt.rcdefaults()\n",
    "matplotlib.style.use('bmh')\n",
    "fig, ax1 = plt.subplots(1,1,sharex=True,sharey=True,figsize=(20,10))\n",
    "tdm_num = len(tdm_subset_gdf)\n",
    "raw_num = len(raw_subset_gdf)\n",
    "plt.xlim([-415000, 1200000])\n",
    "plt.ylim([5300000, 6750000])\n",
    "ax1.get_xaxis().get_major_formatter().set_scientific(False)\n",
    "ax1.get_yaxis().get_major_formatter().set_scientific(False)\n",
    "ax1.margins(x=0, y=0)\n",
    "ax1.add_artist(ScaleBar(dx=1, units=\"m\",))\n",
    "provinces.plot(ax=ax1, color='w', edgecolor='black')\n",
    "geophysics.plot(ax=ax1, color='w', edgecolor='red', linewidth=3.0, facecolor=\"pink\", hatch=\"//\")\n",
    "tdm_subset_gdf.plot(ax=ax1, markersize=35, edgecolors=\"black\", c=\"lightgreen\", label=str(tdm_num) + \"Search Using Text Data Mining\")\n",
    "raw_subset_gdf.plot(ax=ax1, markersize=35, edgecolors=\"black\", c='black', alpha=0.2, label=str(raw_num) +\"Search on Raw Data\")\n",
    "props = dict(boxstyle='round', facecolor='wheat', alpha=0.5)\n",
    "textstr = 'NAD83(2011)  UTM Zone 10'\n",
    "ax1.text(0.74, 0.03, textstr, transform=ax1.transAxes, fontsize=12,\n",
    "        verticalalignment='top', bbox=props)\n",
    "fig.tight_layout()\n",
    "plt.xlabel('Easting', fontsize=15)\n",
    "plt.ylabel('Northing', fontsize=15)\n",
    "x, y, arrow_length = 0.95, 0.9, 0.1\n",
    "ax1.annotate('N', xy=(x, y), xytext=(x, y-arrow_length),\n",
    "            arrowprops=dict(facecolor='black', width=5, headwidth=15),\n",
    "            ha='center', va='center', fontsize=20,\n",
    "            xycoords=ax1.transAxes)\n",
    "legend = plt.legend(['Enlightened Data Mined Search', 'Initial Search'], edgecolor='black', loc='lower left', fontsize=12,\n",
    "                    markerscale=3.5,\n",
    "                   prop={'size': 15})\n",
    "for lh in legend.legendHandles: \n",
    "    lh.set_alpha(1)\n",
    "title = search_term.capitalize() + \" Sample Search Results\"\n",
    "fig.suptitle(title, fontsize=30)\n",
    "fig.subplots_adjust(top=0.90)"
   ]
  },
  {
   "cell_type": "code",
   "execution_count": null,
   "id": "34d67358",
   "metadata": {},
   "outputs": [],
   "source": []
  }
 ],
 "metadata": {
  "kernelspec": {
   "display_name": "Python 3 (ipykernel)",
   "language": "python",
   "name": "python3"
  },
  "language_info": {
   "codemirror_mode": {
    "name": "ipython",
    "version": 3
   },
   "file_extension": ".py",
   "mimetype": "text/x-python",
   "name": "python",
   "nbconvert_exporter": "python",
   "pygments_lexer": "ipython3",
   "version": "3.7.11"
  }
 },
 "nbformat": 4,
 "nbformat_minor": 5
}
